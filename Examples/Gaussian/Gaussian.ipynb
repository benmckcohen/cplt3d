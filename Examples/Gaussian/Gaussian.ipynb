{
 "cells": [
  {
   "cell_type": "markdown",
   "id": "c5f5d772",
   "metadata": {},
   "source": [
    "# Boilerplate"
   ]
  },
  {
   "cell_type": "markdown",
   "id": "8fd07ced",
   "metadata": {},
   "source": [
    "Import some useful packages. Note that I set mplstyle as `fast` to increase rendering efficiency."
   ]
  },
  {
   "cell_type": "code",
   "execution_count": 1,
   "id": "93a65a87",
   "metadata": {},
   "outputs": [
    {
     "ename": "ModuleNotFoundError",
     "evalue": "No module named 'matplotlib'",
     "output_type": "error",
     "traceback": [
      "\u001b[0;31m---------------------------------------------------------------------------\u001b[0m",
      "\u001b[0;31mModuleNotFoundError\u001b[0m                       Traceback (most recent call last)",
      "Cell \u001b[0;32mIn[1], line 1\u001b[0m\n\u001b[0;32m----> 1\u001b[0m \u001b[38;5;28;01mimport\u001b[39;00m\u001b[38;5;250m \u001b[39m\u001b[38;5;21;01mmatplotlib\u001b[39;00m\u001b[38;5;21;01m.\u001b[39;00m\u001b[38;5;21;01mpyplot\u001b[39;00m\u001b[38;5;250m \u001b[39m\u001b[38;5;28;01mas\u001b[39;00m\u001b[38;5;250m \u001b[39m\u001b[38;5;21;01mplt\u001b[39;00m\n\u001b[1;32m      2\u001b[0m \u001b[38;5;28;01mimport\u001b[39;00m\u001b[38;5;250m \u001b[39m\u001b[38;5;21;01mmatplotlib\u001b[39;00m\u001b[38;5;21;01m.\u001b[39;00m\u001b[38;5;21;01mcm\u001b[39;00m\u001b[38;5;250m \u001b[39m\u001b[38;5;28;01mas\u001b[39;00m\u001b[38;5;250m \u001b[39m\u001b[38;5;21;01mcolormaps\u001b[39;00m\n\u001b[1;32m      3\u001b[0m \u001b[38;5;28;01mimport\u001b[39;00m\u001b[38;5;250m \u001b[39m\u001b[38;5;21;01mmatplotlib\u001b[39;00m\u001b[38;5;21;01m.\u001b[39;00m\u001b[38;5;21;01mcolors\u001b[39;00m\u001b[38;5;250m \u001b[39m\u001b[38;5;28;01mas\u001b[39;00m\u001b[38;5;250m \u001b[39m\u001b[38;5;21;01mcolors\u001b[39;00m\n",
      "\u001b[0;31mModuleNotFoundError\u001b[0m: No module named 'matplotlib'"
     ]
    }
   ],
   "source": [
    "import matplotlib.pyplot as plt\n",
    "import matplotlib.cm as colormaps\n",
    "import matplotlib.colors as colors\n",
    "import matplotlib.style as mplstyle\n",
    "import numpy as np\n",
    "import scipy\n",
    "from matplotlib.colors import LogNorm\n",
    "mplstyle.use('fast')"
   ]
  },
  {
   "cell_type": "markdown",
   "id": "ac47f3c5",
   "metadata": {},
   "source": [
    "Notebook settings for animation:"
   ]
  },
  {
   "cell_type": "code",
   "execution_count": null,
   "id": "472885c8",
   "metadata": {},
   "outputs": [],
   "source": [
    "animate = True\n",
    "from cplt3d.generator_funcs import spin_3d_plot"
   ]
  },
  {
   "cell_type": "markdown",
   "id": "d5b78b59",
   "metadata": {},
   "source": [
    "Generate some data for the Gaussian pdf and take some samples:"
   ]
  },
  {
   "cell_type": "code",
   "execution_count": null,
   "id": "21c03765",
   "metadata": {},
   "outputs": [],
   "source": [
    "# generate the pdf of the Gaussian\n",
    "N = 32\n",
    "X,Y,Z = np.linspace(-4,4,N),np.linspace(-4,4,N),np.linspace(-4,4,N)\n",
    "X,Y,Z = np.meshgrid(X,Y,Z)\n",
    "X = X.flatten()\n",
    "Y = Y.flatten()\n",
    "Z = Z.flatten()\n",
    "pts = np.array([X,Y,Z]).T\n",
    "GAUSSIAN = scipy.stats.multivariate_normal.pdf(pts,mean = [0,0,0],cov = [[1,0,0],[0,2,0],[0,0,3]])"
   ]
  },
  {
   "cell_type": "code",
   "execution_count": null,
   "id": "158c8998",
   "metadata": {},
   "outputs": [],
   "source": [
    "# take some samples from a Gaussian\n",
    "N = 10000\n",
    "std = 0.3\n",
    "np.random.seed(123456)\n",
    "pts_samples = np.random.multivariate_normal(mean = [0,0,0],cov = [[std,0,0],[0,std,0],[0,0,std]],size = N)\n",
    "GAUSSIAN_samples = np.ones(len(pts_samples))"
   ]
  },
  {
   "cell_type": "code",
   "execution_count": null,
   "id": "fbe0bfb8",
   "metadata": {},
   "outputs": [],
   "source": [
    "# take some samples from a bimodal distribution\n",
    "N = 10000\n",
    "std = 0.3\n",
    "pos = 1\n",
    "pts_samples_bi_1 = np.random.multivariate_normal(mean = [pos,pos,pos],cov = [[std,0,0],[0,std,0],[0,0,std]],size = N)\n",
    "pts_samples_bi_2 = np.random.multivariate_normal(mean = [-pos,-pos,-pos],cov = [[std,0,0],[0,std,0],[0,0,std]],size = N)\n",
    "pts_samples_bi = list(pts_samples_bi_1) + list(pts_samples_bi_2)\n",
    "GAUSSIAN_samples_bi = np.ones(len(pts_samples_bi))"
   ]
  },
  {
   "cell_type": "markdown",
   "id": "4c80789b",
   "metadata": {},
   "source": [
    "# Uniform Plotting"
   ]
  },
  {
   "cell_type": "markdown",
   "id": "e3a8ccc6",
   "metadata": {},
   "source": [
    "Import `cplt3d`'s generator functions that we are interested in:"
   ]
  },
  {
   "cell_type": "code",
   "execution_count": null,
   "id": "f5860b1e",
   "metadata": {},
   "outputs": [],
   "source": [
    "from cplt3d.generator_funcs import uniform_histogram,uniform_nearest_interpolator,uniform_linear_interpolator"
   ]
  },
  {
   "cell_type": "markdown",
   "id": "f97b8628",
   "metadata": {},
   "source": [
    "Set the number of bins to use in plotting:"
   ]
  },
  {
   "cell_type": "code",
   "execution_count": null,
   "id": "a5eeba6e",
   "metadata": {},
   "outputs": [],
   "source": [
    "N_bins = 2**4"
   ]
  },
  {
   "cell_type": "markdown",
   "id": "05d2c052",
   "metadata": {},
   "source": [
    "We can easily plot using `matplotlib` objects. For instance, we can plot a nearest interpolation of the Gaussian:"
   ]
  },
  {
   "cell_type": "code",
   "execution_count": null,
   "id": "3b949519",
   "metadata": {},
   "outputs": [],
   "source": [
    "# Prepare the figure \n",
    "fig = plt.figure(figsize = (3,3))\n",
    "ax = fig.add_subplot(projection = '3d')\n",
    "\n",
    "# Prepare the colormap. Note that we use a non-linear alpha to make the center clearer\n",
    "cmap = colormaps.get_cmap('viridis')\n",
    "use_cmap = cmap(np.arange(cmap.N))\n",
    "use_cmap[:,-1] = np.linspace(0,1,cmap.N)**1.7\n",
    "use_cmap = colors.ListedColormap(use_cmap)\n",
    "\n",
    "# Plot the function\n",
    "uniform_nearest_interpolator(ax,pts,GAUSSIAN,bins = N_bins,filled = 0.3,cmap = use_cmap,verbose = True)\n",
    "\n",
    "# Edit some figure settings and save it\n",
    "ax.set_xlabel(\"X\")\n",
    "ax.set_ylabel(\"Y\")\n",
    "ax.set_zlabel(\"Z\")\n",
    "ax.zaxis.labelpad=-3.5\n",
    "fig.savefig('./Images/1_Nearest-Uniform_Gaussian.png',dpi = 300)"
   ]
  },
  {
   "cell_type": "markdown",
   "id": "b9e3dec0",
   "metadata": {},
   "source": [
    "Or a linear interpolation of the Gaussian:"
   ]
  },
  {
   "cell_type": "code",
   "execution_count": null,
   "id": "c71e79cd",
   "metadata": {},
   "outputs": [],
   "source": [
    "# Prepare the figure \n",
    "fig = plt.figure(figsize = (3,3))\n",
    "ax = fig.add_subplot(projection = '3d')\n",
    "\n",
    "# Plot the function\n",
    "uniform_linear_interpolator(ax,pts,GAUSSIAN,bins = N_bins,filled = 0.3,cmap = use_cmap,verbose = False)\n",
    "\n",
    "# Edit some figure settings and save it\n",
    "ax.set_xlabel(\"X\")\n",
    "ax.set_ylabel(\"Y\")\n",
    "ax.set_zlabel(\"Z\")\n",
    "ax.zaxis.labelpad=-3.5\n",
    "fig.savefig('Images/2_Linear-Uniform_Gaussian.png',dpi = 300)"
   ]
  },
  {
   "cell_type": "markdown",
   "id": "7164729b",
   "metadata": {},
   "source": [
    "We can also plot a 3d histogram of the Gaussian samples:"
   ]
  },
  {
   "cell_type": "code",
   "execution_count": null,
   "id": "219a0c18",
   "metadata": {},
   "outputs": [],
   "source": [
    "# Prepare the figure\n",
    "fig = plt.figure(figsize = (3,3))\n",
    "ax = fig.add_subplot(projection = '3d')\n",
    "\n",
    "# Prepare the colormap\n",
    "cmap = colormaps.get_cmap('inferno')\n",
    "use_cmap = cmap(np.arange(cmap.N))\n",
    "use_cmap[:,-1] = np.linspace(0,1,cmap.N)**1.7\n",
    "use_cmap = colors.ListedColormap(use_cmap)\n",
    "\n",
    "# Generate the uniform histogram\n",
    "uniform_histogram(ax,pts_samples,GAUSSIAN_samples,bins = N_bins,filled = 0.3,cmap = use_cmap,verbose = False)\n",
    "\n",
    "# Edit some figure settings and save it\n",
    "ax.set_xlabel(\"X\")\n",
    "ax.set_ylabel(\"Y\")\n",
    "ax.set_zlabel(\"Z\")\n",
    "ax.zaxis.labelpad=-3.5\n",
    "fig.savefig('Images/3_Histogram-Uniform_Gaussian.png',dpi = 300)"
   ]
  },
  {
   "cell_type": "markdown",
   "id": "7ab9bb54",
   "metadata": {},
   "source": [
    "# Tree Plotting"
   ]
  },
  {
   "cell_type": "markdown",
   "id": "db274c0d",
   "metadata": {},
   "source": [
    "Often, it is useful to have a dynamic bin-size in 3d histogram plotting because the number of polygons one must plot scales as $6N^3$. This is especially true in cases where (1) a small binsize is required and (2) most of the points of interest are within a small region. Dynamic sizing can be done using the `tree_histogram` method.\n",
    "\n",
    "We can begin by importing the method:"
   ]
  },
  {
   "cell_type": "code",
   "execution_count": null,
   "id": "093788ca",
   "metadata": {},
   "outputs": [],
   "source": [
    "from cplt3d.generator_funcs import tree_histogram"
   ]
  },
  {
   "cell_type": "markdown",
   "id": "d83335dd",
   "metadata": {},
   "source": [
    "Then generating a tree histogram is as easy as generating a regular histogram:"
   ]
  },
  {
   "cell_type": "code",
   "execution_count": null,
   "id": "abd22282",
   "metadata": {},
   "outputs": [],
   "source": [
    "# Prepare the figure\n",
    "fig = plt.figure(figsize = (3,3))\n",
    "ax = fig.add_subplot(projection = '3d')\n",
    "\n",
    "# Plot the tree histogram\n",
    "poly = tree_histogram(ax,pts_samples,GAUSSIAN_samples,cmap = use_cmap,\n",
    "               filled=None,verbose = True,dist = 'sigmoid',\n",
    "               min_resolution = None,max_resolution = None,edgecolor_function = lambda color:(0,0,0,0.01))\n",
    "\n",
    "# Edit some figure settings and save it\n",
    "ax.set_xlabel(\"X\")\n",
    "ax.set_ylabel(\"Y\")\n",
    "ax.set_zlabel(\"Z\")\n",
    "ax.zaxis.labelpad=-3.5\n",
    "fig.savefig('Images/4_Histogram-Tree_Gaussian_1.png',dpi = 300)"
   ]
  },
  {
   "cell_type": "markdown",
   "id": "6929a716",
   "metadata": {},
   "source": [
    "As another example, we can try the method on the dual-Gaussian bimodal case:"
   ]
  },
  {
   "cell_type": "code",
   "execution_count": null,
   "id": "47e1fabd",
   "metadata": {},
   "outputs": [],
   "source": [
    "# Prepare the figure\n",
    "fig = plt.figure(figsize = (6*2,6))\n",
    "ax = fig.add_subplot(121,projection = '3d')\n",
    "ax2 = fig.add_subplot(122,projection = '3d')\n",
    "\n",
    "# Prepare the colormap and region to plot\n",
    "cmap = colormaps.get_cmap('inferno')\n",
    "use_cmap = cmap(np.arange(cmap.N))\n",
    "use_cmap[:,-1] = np.linspace(0,1,cmap.N)**2\n",
    "use_cmap = colors.ListedColormap(use_cmap)\n",
    "d = 3\n",
    "\n",
    "# Plot with edges colored\n",
    "poly = tree_histogram(ax,np.array(pts_samples_bi),np.array(GAUSSIAN_samples_bi),cmap = use_cmap,\n",
    "               filled=None,verbose = False,\n",
    "               _range = [[-d,d],[-d,d],[-d,d]],\n",
    "               min_resolution = 1,max_resolution = 5,\n",
    "               vmin = 1,norm = LogNorm,edgecolor_function = lambda x:(0,0,0,0.2),linewidths = 0.4)\n",
    "\n",
    "# Plot without edges colored\n",
    "poly = tree_histogram(ax2,np.array(pts_samples_bi),np.array(GAUSSIAN_samples_bi),cmap = use_cmap,\n",
    "               filled=None,verbose = False,\n",
    "               _range = [[-d,d],[-d,d],[-d,d]],\n",
    "               min_resolution = 1,max_resolution = 5,\n",
    "               vmin = 1,norm = LogNorm)\n",
    "\n",
    "# Edit some figure settings and save it\n",
    "ax.set_xlim(-d,d)\n",
    "ax.set_ylim(-d,d)\n",
    "ax.set_zlim(-d,d)\n",
    "fig.tight_layout()\n",
    "fig.savefig('Images/6_Histogram-Tree Dual-Gaussian.png',dpi = 300)"
   ]
  },
  {
   "cell_type": "markdown",
   "id": "5be60607",
   "metadata": {},
   "source": [
    "# Rotating Plots"
   ]
  },
  {
   "cell_type": "markdown",
   "id": "85740026",
   "metadata": {},
   "source": [
    "`cplt3d` also makes it easy to animate rotating 3d plots. The process is parallelized which makes it substantially faster for more complex plots:"
   ]
  },
  {
   "cell_type": "code",
   "execution_count": null,
   "id": "cd4b1df5",
   "metadata": {},
   "outputs": [],
   "source": [
    "if animate and __name__ == '__main__':\n",
    "    folder_in = './Images'\n",
    "    spin_3d_plot(fig,[ax,ax2],'Images/7_Gaussian_Histogram',step=1,merge=True,delete=True,fps = 15,\n",
    "                parallel = True,verbose = True,Animation_Generation_Folder=folder_in,dpi = 300)"
   ]
  }
 ],
 "metadata": {
  "kernelspec": {
   "display_name": "Inflation",
   "language": "python",
   "name": "python3"
  },
  "language_info": {
   "codemirror_mode": {
    "name": "ipython",
    "version": 3
   },
   "file_extension": ".py",
   "mimetype": "text/x-python",
   "name": "python",
   "nbconvert_exporter": "python",
   "pygments_lexer": "ipython3",
   "version": "3.11.13"
  }
 },
 "nbformat": 4,
 "nbformat_minor": 5
}
